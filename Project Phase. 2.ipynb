{
 "cells": [
  {
   "cell_type": "markdown",
   "id": "ce1bf585-e914-401b-a15e-77e903647497",
   "metadata": {},
   "source": [
    "### <font color = Lightgreen></center>  **APPLIANCES ENERGY CONSUMPTION PREDICTION**   </fonts>"
   ]
  },
  {
   "cell_type": "markdown",
   "id": "540fe069-7dba-4ba9-9589-a6ab80dbd707",
   "metadata": {},
   "source": [
    "#### <font color = Pink></center>  **PROBLEM STATEMENT**   </fonts>"
   ]
  },
  {
   "cell_type": "markdown",
   "id": "1a787254-eab0-4d63-a43a-e913f62cde55",
   "metadata": {},
   "source": [
    "The Increasing Demand for Energy has lead to a significant rise in greenhouse gas emissions,contributing to climate change .\n",
    "Optimizing energy consumption has become a critical concern for households , businesses governments worldwide.\n",
    "In response this Project aims to develop a predictive model that forecasts appliance energy consumption using \n",
    "a comprehensive dataset of environmental factors and appliance usage patterns.\n",
    "For that, I implement all regression models and conduct model evluation techniques and following steps to find \n",
    "the best performance model."
   ]
  },
  {
   "cell_type": "markdown",
   "id": "894ea11b-ed8d-4581-b5a6-d25cff01d044",
   "metadata": {},
   "source": [
    "#### <font color = Pink></center>  **PROBLEM DESCRIPTION**   </fonts>"
   ]
  },
  {
   "cell_type": "markdown",
   "id": "e38c088b-c53b-4bf5-89df-0cf6908d13e9",
   "metadata": {},
   "source": [
    "The appliances energy prediction dataset contains measurements of appliance energy \n",
    "consumption and various environmental factors such as temparature,Humidity and \n",
    "outdoor weather conditions .However Predicting appliance energy consumption remains a \n",
    "challenging task due to the complexity of the realtionships between these factors."
   ]
  },
  {
   "cell_type": "markdown",
   "id": "6a53eecb-8661-44a5-86e1-bed8ba389024",
   "metadata": {},
   "source": [
    "#### <font color = Pink></center>  **PROJECT OBJECTIVES**   </fonts>"
   ]
  },
  {
   "cell_type": "markdown",
   "id": "a797fa39-2f92-4857-85bb-be898e0d0d3e",
   "metadata": {},
   "source": [
    "To develop a predictive model that accurately forecasts appliance energy consumption. \n",
    "To Identify the most significant environmental factors that impact appliance energy consumption. \n",
    "To provide Insights and recommendations for households and businesses to optimize their energy usage \n",
    "and reduce waste."
   ]
  },
  {
   "cell_type": "markdown",
   "id": "942540b6-6187-46ad-aefa-862d4107cfb2",
   "metadata": {},
   "source": [
    "###### <font color = Pink></center>  **DATASET CHARACTERISTICS**   </fonts>"
   ]
  },
  {
   "cell_type": "markdown",
   "id": "85f88ccc-35a8-432d-b9d6-e4370abc84c6",
   "metadata": {},
   "source": [
    "###### <font color = Lightblue></center>  **Type:**   </fonts>   Regression"
   ]
  },
  {
   "cell_type": "markdown",
   "id": "3b99f2a6-261d-47a4-b772-3c248b808e13",
   "metadata": {},
   "source": [
    "###### <font color = Lightblue></center>  **Features:**   </fonts>  29 Features Including Temparature,Humidity ,Lighting ,Appliance Usage"
   ]
  },
  {
   "cell_type": "markdown",
   "id": "6e5fa3cf-d975-4247-a334-032b92030e6b",
   "metadata": {},
   "source": [
    "###### <font color = LightBlue></center>  **Target Variable:**   </fonts>  Energy Consumption of Appliances(In Wh)"
   ]
  },
  {
   "cell_type": "markdown",
   "id": "c993f508-0328-4361-b6fb-9262f9153cae",
   "metadata": {},
   "source": [
    "###### <font color = LightBlue></center>  **Target Variable:**   </fonts>  Energy Consumption of Appliances(In Wh)"
   ]
  },
  {
   "cell_type": "markdown",
   "id": "8ed66684-08a0-4318-b100-89ae48386f8b",
   "metadata": {},
   "source": [
    "###### <font color = LightBlue></center>  **Source:**   </fonts> UCI Machine learning Repository"
   ]
  },
  {
   "cell_type": "markdown",
   "id": "64766880-2b81-4614-9028-741ba1339e13",
   "metadata": {},
   "source": [
    "#### <font color = Lightgreen></center>  **LOADING AND PREPROCESSING**   </fonts>"
   ]
  },
  {
   "cell_type": "markdown",
   "id": "f4f0ed43-dbaa-4e01-a9a3-6d244574f01a",
   "metadata": {},
   "source": [
    "##### <font color = Pink></center>  **Import Necessary Libraries**   </fonts>"
   ]
  },
  {
   "cell_type": "code",
   "execution_count": 5,
   "id": "95be6856-e472-4b9b-93f8-e3258ee2beaa",
   "metadata": {},
   "outputs": [],
   "source": [
    "import warnings\n",
    "import sys\n",
    "if not sys.warnoptions:\n",
    "    warnings.simplefilter(\"ignore\")\n",
    "import numpy as np \n",
    "import pandas as pd\n",
    "import matplotlib.pyplot as plt\n",
    "import seaborn as sns\n",
    "from scipy import stats\n",
    "from sklearn.preprocessing import StandardScaler\n",
    "from sklearn.cluster import KMeans\n",
    "from sklearn.model_selection import train_test_split\n",
    "from sklearn.linear_model import LinearRegression\n",
    "from sklearn.tree import DecisionTreeRegressor\n",
    "from sklearn.ensemble import RandomForestRegressor, GradientBoostingRegressor\n",
    "from sklearn.svm import SVR\n",
    "from sklearn.metrics import mean_squared_error, mean_absolute_error, r2_score"
   ]
  },
  {
   "cell_type": "markdown",
   "id": "f2f97c30-bcec-4770-a6b1-4d4a7c3ccad0",
   "metadata": {},
   "source": [
    "#### <font color = Pink></center>  **Load the Dataset**   </fonts>"
   ]
  },
  {
   "cell_type": "code",
   "execution_count": 7,
   "id": "1a61fccf-01d2-44d8-b721-6724f7a98b1a",
   "metadata": {},
   "outputs": [
    {
     "data": {
      "text/html": [
       "<div>\n",
       "<style scoped>\n",
       "    .dataframe tbody tr th:only-of-type {\n",
       "        vertical-align: middle;\n",
       "    }\n",
       "\n",
       "    .dataframe tbody tr th {\n",
       "        vertical-align: top;\n",
       "    }\n",
       "\n",
       "    .dataframe thead th {\n",
       "        text-align: right;\n",
       "    }\n",
       "</style>\n",
       "<table border=\"1\" class=\"dataframe\">\n",
       "  <thead>\n",
       "    <tr style=\"text-align: right;\">\n",
       "      <th></th>\n",
       "      <th>date</th>\n",
       "      <th>Appliances</th>\n",
       "      <th>lights</th>\n",
       "      <th>T1</th>\n",
       "      <th>RH_1</th>\n",
       "      <th>T2</th>\n",
       "      <th>RH_2</th>\n",
       "      <th>T3</th>\n",
       "      <th>RH_3</th>\n",
       "      <th>T4</th>\n",
       "      <th>...</th>\n",
       "      <th>T9</th>\n",
       "      <th>RH_9</th>\n",
       "      <th>T_out</th>\n",
       "      <th>Press_mm_hg</th>\n",
       "      <th>RH_out</th>\n",
       "      <th>Windspeed</th>\n",
       "      <th>Visibility</th>\n",
       "      <th>Tdewpoint</th>\n",
       "      <th>rv1</th>\n",
       "      <th>rv2</th>\n",
       "    </tr>\n",
       "  </thead>\n",
       "  <tbody>\n",
       "    <tr>\n",
       "      <th>0</th>\n",
       "      <td>2016-01-11 17:00:00</td>\n",
       "      <td>60</td>\n",
       "      <td>30</td>\n",
       "      <td>19.890000</td>\n",
       "      <td>47.596667</td>\n",
       "      <td>19.200000</td>\n",
       "      <td>44.790000</td>\n",
       "      <td>19.790000</td>\n",
       "      <td>44.730000</td>\n",
       "      <td>19.000000</td>\n",
       "      <td>...</td>\n",
       "      <td>17.033333</td>\n",
       "      <td>45.5300</td>\n",
       "      <td>6.600000</td>\n",
       "      <td>733.5</td>\n",
       "      <td>92.000000</td>\n",
       "      <td>7.000000</td>\n",
       "      <td>63.000000</td>\n",
       "      <td>5.300000</td>\n",
       "      <td>13.275433</td>\n",
       "      <td>13.275433</td>\n",
       "    </tr>\n",
       "    <tr>\n",
       "      <th>1</th>\n",
       "      <td>2016-01-11 17:10:00</td>\n",
       "      <td>60</td>\n",
       "      <td>30</td>\n",
       "      <td>19.890000</td>\n",
       "      <td>46.693333</td>\n",
       "      <td>19.200000</td>\n",
       "      <td>44.722500</td>\n",
       "      <td>19.790000</td>\n",
       "      <td>44.790000</td>\n",
       "      <td>19.000000</td>\n",
       "      <td>...</td>\n",
       "      <td>17.066667</td>\n",
       "      <td>45.5600</td>\n",
       "      <td>6.483333</td>\n",
       "      <td>733.6</td>\n",
       "      <td>92.000000</td>\n",
       "      <td>6.666667</td>\n",
       "      <td>59.166667</td>\n",
       "      <td>5.200000</td>\n",
       "      <td>18.606195</td>\n",
       "      <td>18.606195</td>\n",
       "    </tr>\n",
       "    <tr>\n",
       "      <th>2</th>\n",
       "      <td>2016-01-11 17:20:00</td>\n",
       "      <td>50</td>\n",
       "      <td>30</td>\n",
       "      <td>19.890000</td>\n",
       "      <td>46.300000</td>\n",
       "      <td>19.200000</td>\n",
       "      <td>44.626667</td>\n",
       "      <td>19.790000</td>\n",
       "      <td>44.933333</td>\n",
       "      <td>18.926667</td>\n",
       "      <td>...</td>\n",
       "      <td>17.000000</td>\n",
       "      <td>45.5000</td>\n",
       "      <td>6.366667</td>\n",
       "      <td>733.7</td>\n",
       "      <td>92.000000</td>\n",
       "      <td>6.333333</td>\n",
       "      <td>55.333333</td>\n",
       "      <td>5.100000</td>\n",
       "      <td>28.642668</td>\n",
       "      <td>28.642668</td>\n",
       "    </tr>\n",
       "    <tr>\n",
       "      <th>3</th>\n",
       "      <td>2016-01-11 17:30:00</td>\n",
       "      <td>50</td>\n",
       "      <td>40</td>\n",
       "      <td>19.890000</td>\n",
       "      <td>46.066667</td>\n",
       "      <td>19.200000</td>\n",
       "      <td>44.590000</td>\n",
       "      <td>19.790000</td>\n",
       "      <td>45.000000</td>\n",
       "      <td>18.890000</td>\n",
       "      <td>...</td>\n",
       "      <td>17.000000</td>\n",
       "      <td>45.4000</td>\n",
       "      <td>6.250000</td>\n",
       "      <td>733.8</td>\n",
       "      <td>92.000000</td>\n",
       "      <td>6.000000</td>\n",
       "      <td>51.500000</td>\n",
       "      <td>5.000000</td>\n",
       "      <td>45.410389</td>\n",
       "      <td>45.410389</td>\n",
       "    </tr>\n",
       "    <tr>\n",
       "      <th>4</th>\n",
       "      <td>2016-01-11 17:40:00</td>\n",
       "      <td>60</td>\n",
       "      <td>40</td>\n",
       "      <td>19.890000</td>\n",
       "      <td>46.333333</td>\n",
       "      <td>19.200000</td>\n",
       "      <td>44.530000</td>\n",
       "      <td>19.790000</td>\n",
       "      <td>45.000000</td>\n",
       "      <td>18.890000</td>\n",
       "      <td>...</td>\n",
       "      <td>17.000000</td>\n",
       "      <td>45.4000</td>\n",
       "      <td>6.133333</td>\n",
       "      <td>733.9</td>\n",
       "      <td>92.000000</td>\n",
       "      <td>5.666667</td>\n",
       "      <td>47.666667</td>\n",
       "      <td>4.900000</td>\n",
       "      <td>10.084097</td>\n",
       "      <td>10.084097</td>\n",
       "    </tr>\n",
       "    <tr>\n",
       "      <th>...</th>\n",
       "      <td>...</td>\n",
       "      <td>...</td>\n",
       "      <td>...</td>\n",
       "      <td>...</td>\n",
       "      <td>...</td>\n",
       "      <td>...</td>\n",
       "      <td>...</td>\n",
       "      <td>...</td>\n",
       "      <td>...</td>\n",
       "      <td>...</td>\n",
       "      <td>...</td>\n",
       "      <td>...</td>\n",
       "      <td>...</td>\n",
       "      <td>...</td>\n",
       "      <td>...</td>\n",
       "      <td>...</td>\n",
       "      <td>...</td>\n",
       "      <td>...</td>\n",
       "      <td>...</td>\n",
       "      <td>...</td>\n",
       "      <td>...</td>\n",
       "    </tr>\n",
       "    <tr>\n",
       "      <th>19730</th>\n",
       "      <td>2016-05-27 17:20:00</td>\n",
       "      <td>100</td>\n",
       "      <td>0</td>\n",
       "      <td>25.566667</td>\n",
       "      <td>46.560000</td>\n",
       "      <td>25.890000</td>\n",
       "      <td>42.025714</td>\n",
       "      <td>27.200000</td>\n",
       "      <td>41.163333</td>\n",
       "      <td>24.700000</td>\n",
       "      <td>...</td>\n",
       "      <td>23.200000</td>\n",
       "      <td>46.7900</td>\n",
       "      <td>22.733333</td>\n",
       "      <td>755.2</td>\n",
       "      <td>55.666667</td>\n",
       "      <td>3.333333</td>\n",
       "      <td>23.666667</td>\n",
       "      <td>13.333333</td>\n",
       "      <td>43.096812</td>\n",
       "      <td>43.096812</td>\n",
       "    </tr>\n",
       "    <tr>\n",
       "      <th>19731</th>\n",
       "      <td>2016-05-27 17:30:00</td>\n",
       "      <td>90</td>\n",
       "      <td>0</td>\n",
       "      <td>25.500000</td>\n",
       "      <td>46.500000</td>\n",
       "      <td>25.754000</td>\n",
       "      <td>42.080000</td>\n",
       "      <td>27.133333</td>\n",
       "      <td>41.223333</td>\n",
       "      <td>24.700000</td>\n",
       "      <td>...</td>\n",
       "      <td>23.200000</td>\n",
       "      <td>46.7900</td>\n",
       "      <td>22.600000</td>\n",
       "      <td>755.2</td>\n",
       "      <td>56.000000</td>\n",
       "      <td>3.500000</td>\n",
       "      <td>24.500000</td>\n",
       "      <td>13.300000</td>\n",
       "      <td>49.282940</td>\n",
       "      <td>49.282940</td>\n",
       "    </tr>\n",
       "    <tr>\n",
       "      <th>19732</th>\n",
       "      <td>2016-05-27 17:40:00</td>\n",
       "      <td>270</td>\n",
       "      <td>10</td>\n",
       "      <td>25.500000</td>\n",
       "      <td>46.596667</td>\n",
       "      <td>25.628571</td>\n",
       "      <td>42.768571</td>\n",
       "      <td>27.050000</td>\n",
       "      <td>41.690000</td>\n",
       "      <td>24.700000</td>\n",
       "      <td>...</td>\n",
       "      <td>23.200000</td>\n",
       "      <td>46.7900</td>\n",
       "      <td>22.466667</td>\n",
       "      <td>755.2</td>\n",
       "      <td>56.333333</td>\n",
       "      <td>3.666667</td>\n",
       "      <td>25.333333</td>\n",
       "      <td>13.266667</td>\n",
       "      <td>29.199117</td>\n",
       "      <td>29.199117</td>\n",
       "    </tr>\n",
       "    <tr>\n",
       "      <th>19733</th>\n",
       "      <td>2016-05-27 17:50:00</td>\n",
       "      <td>420</td>\n",
       "      <td>10</td>\n",
       "      <td>25.500000</td>\n",
       "      <td>46.990000</td>\n",
       "      <td>25.414000</td>\n",
       "      <td>43.036000</td>\n",
       "      <td>26.890000</td>\n",
       "      <td>41.290000</td>\n",
       "      <td>24.700000</td>\n",
       "      <td>...</td>\n",
       "      <td>23.200000</td>\n",
       "      <td>46.8175</td>\n",
       "      <td>22.333333</td>\n",
       "      <td>755.2</td>\n",
       "      <td>56.666667</td>\n",
       "      <td>3.833333</td>\n",
       "      <td>26.166667</td>\n",
       "      <td>13.233333</td>\n",
       "      <td>6.322784</td>\n",
       "      <td>6.322784</td>\n",
       "    </tr>\n",
       "    <tr>\n",
       "      <th>19734</th>\n",
       "      <td>2016-05-27 18:00:00</td>\n",
       "      <td>430</td>\n",
       "      <td>10</td>\n",
       "      <td>25.500000</td>\n",
       "      <td>46.600000</td>\n",
       "      <td>25.264286</td>\n",
       "      <td>42.971429</td>\n",
       "      <td>26.823333</td>\n",
       "      <td>41.156667</td>\n",
       "      <td>24.700000</td>\n",
       "      <td>...</td>\n",
       "      <td>23.200000</td>\n",
       "      <td>46.8450</td>\n",
       "      <td>22.200000</td>\n",
       "      <td>755.2</td>\n",
       "      <td>57.000000</td>\n",
       "      <td>4.000000</td>\n",
       "      <td>27.000000</td>\n",
       "      <td>13.200000</td>\n",
       "      <td>34.118851</td>\n",
       "      <td>34.118851</td>\n",
       "    </tr>\n",
       "  </tbody>\n",
       "</table>\n",
       "<p>19735 rows × 29 columns</p>\n",
       "</div>"
      ],
      "text/plain": [
       "                      date  Appliances  lights         T1       RH_1  \\\n",
       "0      2016-01-11 17:00:00          60      30  19.890000  47.596667   \n",
       "1      2016-01-11 17:10:00          60      30  19.890000  46.693333   \n",
       "2      2016-01-11 17:20:00          50      30  19.890000  46.300000   \n",
       "3      2016-01-11 17:30:00          50      40  19.890000  46.066667   \n",
       "4      2016-01-11 17:40:00          60      40  19.890000  46.333333   \n",
       "...                    ...         ...     ...        ...        ...   \n",
       "19730  2016-05-27 17:20:00         100       0  25.566667  46.560000   \n",
       "19731  2016-05-27 17:30:00          90       0  25.500000  46.500000   \n",
       "19732  2016-05-27 17:40:00         270      10  25.500000  46.596667   \n",
       "19733  2016-05-27 17:50:00         420      10  25.500000  46.990000   \n",
       "19734  2016-05-27 18:00:00         430      10  25.500000  46.600000   \n",
       "\n",
       "              T2       RH_2         T3       RH_3         T4  ...         T9  \\\n",
       "0      19.200000  44.790000  19.790000  44.730000  19.000000  ...  17.033333   \n",
       "1      19.200000  44.722500  19.790000  44.790000  19.000000  ...  17.066667   \n",
       "2      19.200000  44.626667  19.790000  44.933333  18.926667  ...  17.000000   \n",
       "3      19.200000  44.590000  19.790000  45.000000  18.890000  ...  17.000000   \n",
       "4      19.200000  44.530000  19.790000  45.000000  18.890000  ...  17.000000   \n",
       "...          ...        ...        ...        ...        ...  ...        ...   \n",
       "19730  25.890000  42.025714  27.200000  41.163333  24.700000  ...  23.200000   \n",
       "19731  25.754000  42.080000  27.133333  41.223333  24.700000  ...  23.200000   \n",
       "19732  25.628571  42.768571  27.050000  41.690000  24.700000  ...  23.200000   \n",
       "19733  25.414000  43.036000  26.890000  41.290000  24.700000  ...  23.200000   \n",
       "19734  25.264286  42.971429  26.823333  41.156667  24.700000  ...  23.200000   \n",
       "\n",
       "          RH_9      T_out  Press_mm_hg     RH_out  Windspeed  Visibility  \\\n",
       "0      45.5300   6.600000        733.5  92.000000   7.000000   63.000000   \n",
       "1      45.5600   6.483333        733.6  92.000000   6.666667   59.166667   \n",
       "2      45.5000   6.366667        733.7  92.000000   6.333333   55.333333   \n",
       "3      45.4000   6.250000        733.8  92.000000   6.000000   51.500000   \n",
       "4      45.4000   6.133333        733.9  92.000000   5.666667   47.666667   \n",
       "...        ...        ...          ...        ...        ...         ...   \n",
       "19730  46.7900  22.733333        755.2  55.666667   3.333333   23.666667   \n",
       "19731  46.7900  22.600000        755.2  56.000000   3.500000   24.500000   \n",
       "19732  46.7900  22.466667        755.2  56.333333   3.666667   25.333333   \n",
       "19733  46.8175  22.333333        755.2  56.666667   3.833333   26.166667   \n",
       "19734  46.8450  22.200000        755.2  57.000000   4.000000   27.000000   \n",
       "\n",
       "       Tdewpoint        rv1        rv2  \n",
       "0       5.300000  13.275433  13.275433  \n",
       "1       5.200000  18.606195  18.606195  \n",
       "2       5.100000  28.642668  28.642668  \n",
       "3       5.000000  45.410389  45.410389  \n",
       "4       4.900000  10.084097  10.084097  \n",
       "...          ...        ...        ...  \n",
       "19730  13.333333  43.096812  43.096812  \n",
       "19731  13.300000  49.282940  49.282940  \n",
       "19732  13.266667  29.199117  29.199117  \n",
       "19733  13.233333   6.322784   6.322784  \n",
       "19734  13.200000  34.118851  34.118851  \n",
       "\n",
       "[19735 rows x 29 columns]"
      ]
     },
     "execution_count": 7,
     "metadata": {},
     "output_type": "execute_result"
    }
   ],
   "source": [
    "data = pd.read_csv(\"C:\\\\Users\\\\hp\\\\Downloads\\\\appliances+energy+prediction.zip\")\n",
    "data"
   ]
  },
  {
   "cell_type": "markdown",
   "id": "71f7cad1-4441-4748-a99f-1f1bc23589d0",
   "metadata": {},
   "source": [
    "#### <font color = Pink></center>  **Structure of the dataset**   </fonts>"
   ]
  },
  {
   "cell_type": "markdown",
   "id": "a7b646cf-45a9-4179-a76d-07ed01c9ad1b",
   "metadata": {},
   "source": [
    "##### <font color = Lightblue></center>  _Shape of the Dataset_   </fonts>"
   ]
  },
  {
   "cell_type": "code",
   "execution_count": 9,
   "id": "cc403c7c-4ddd-4ead-a2b1-9b0c0eed0dab",
   "metadata": {},
   "outputs": [
    {
     "name": "stdout",
     "output_type": "stream",
     "text": [
      "Shape of the dataset is (19735, 29)\n"
     ]
    }
   ],
   "source": [
    "print (\"Shape of the dataset is\" , data.shape)"
   ]
  },
  {
   "cell_type": "markdown",
   "id": "5c5a544d-8e44-4f5e-b05a-f7c1f9f8a1c8",
   "metadata": {},
   "source": [
    "##### <font color = Lightblue></center> _Display First few rows_   </fonts>"
   ]
  },
  {
   "cell_type": "code",
   "execution_count": 11,
   "id": "a2ef3522-26e8-429d-b0cf-4799aad19a36",
   "metadata": {},
   "outputs": [
    {
     "data": {
      "text/html": [
       "<div>\n",
       "<style scoped>\n",
       "    .dataframe tbody tr th:only-of-type {\n",
       "        vertical-align: middle;\n",
       "    }\n",
       "\n",
       "    .dataframe tbody tr th {\n",
       "        vertical-align: top;\n",
       "    }\n",
       "\n",
       "    .dataframe thead th {\n",
       "        text-align: right;\n",
       "    }\n",
       "</style>\n",
       "<table border=\"1\" class=\"dataframe\">\n",
       "  <thead>\n",
       "    <tr style=\"text-align: right;\">\n",
       "      <th></th>\n",
       "      <th>date</th>\n",
       "      <th>Appliances</th>\n",
       "      <th>lights</th>\n",
       "      <th>T1</th>\n",
       "      <th>RH_1</th>\n",
       "      <th>T2</th>\n",
       "      <th>RH_2</th>\n",
       "      <th>T3</th>\n",
       "      <th>RH_3</th>\n",
       "      <th>T4</th>\n",
       "      <th>...</th>\n",
       "      <th>T9</th>\n",
       "      <th>RH_9</th>\n",
       "      <th>T_out</th>\n",
       "      <th>Press_mm_hg</th>\n",
       "      <th>RH_out</th>\n",
       "      <th>Windspeed</th>\n",
       "      <th>Visibility</th>\n",
       "      <th>Tdewpoint</th>\n",
       "      <th>rv1</th>\n",
       "      <th>rv2</th>\n",
       "    </tr>\n",
       "  </thead>\n",
       "  <tbody>\n",
       "    <tr>\n",
       "      <th>0</th>\n",
       "      <td>2016-01-11 17:00:00</td>\n",
       "      <td>60</td>\n",
       "      <td>30</td>\n",
       "      <td>19.89</td>\n",
       "      <td>47.596667</td>\n",
       "      <td>19.2</td>\n",
       "      <td>44.790000</td>\n",
       "      <td>19.79</td>\n",
       "      <td>44.730000</td>\n",
       "      <td>19.000000</td>\n",
       "      <td>...</td>\n",
       "      <td>17.033333</td>\n",
       "      <td>45.53</td>\n",
       "      <td>6.600000</td>\n",
       "      <td>733.5</td>\n",
       "      <td>92.0</td>\n",
       "      <td>7.000000</td>\n",
       "      <td>63.000000</td>\n",
       "      <td>5.3</td>\n",
       "      <td>13.275433</td>\n",
       "      <td>13.275433</td>\n",
       "    </tr>\n",
       "    <tr>\n",
       "      <th>1</th>\n",
       "      <td>2016-01-11 17:10:00</td>\n",
       "      <td>60</td>\n",
       "      <td>30</td>\n",
       "      <td>19.89</td>\n",
       "      <td>46.693333</td>\n",
       "      <td>19.2</td>\n",
       "      <td>44.722500</td>\n",
       "      <td>19.79</td>\n",
       "      <td>44.790000</td>\n",
       "      <td>19.000000</td>\n",
       "      <td>...</td>\n",
       "      <td>17.066667</td>\n",
       "      <td>45.56</td>\n",
       "      <td>6.483333</td>\n",
       "      <td>733.6</td>\n",
       "      <td>92.0</td>\n",
       "      <td>6.666667</td>\n",
       "      <td>59.166667</td>\n",
       "      <td>5.2</td>\n",
       "      <td>18.606195</td>\n",
       "      <td>18.606195</td>\n",
       "    </tr>\n",
       "    <tr>\n",
       "      <th>2</th>\n",
       "      <td>2016-01-11 17:20:00</td>\n",
       "      <td>50</td>\n",
       "      <td>30</td>\n",
       "      <td>19.89</td>\n",
       "      <td>46.300000</td>\n",
       "      <td>19.2</td>\n",
       "      <td>44.626667</td>\n",
       "      <td>19.79</td>\n",
       "      <td>44.933333</td>\n",
       "      <td>18.926667</td>\n",
       "      <td>...</td>\n",
       "      <td>17.000000</td>\n",
       "      <td>45.50</td>\n",
       "      <td>6.366667</td>\n",
       "      <td>733.7</td>\n",
       "      <td>92.0</td>\n",
       "      <td>6.333333</td>\n",
       "      <td>55.333333</td>\n",
       "      <td>5.1</td>\n",
       "      <td>28.642668</td>\n",
       "      <td>28.642668</td>\n",
       "    </tr>\n",
       "    <tr>\n",
       "      <th>3</th>\n",
       "      <td>2016-01-11 17:30:00</td>\n",
       "      <td>50</td>\n",
       "      <td>40</td>\n",
       "      <td>19.89</td>\n",
       "      <td>46.066667</td>\n",
       "      <td>19.2</td>\n",
       "      <td>44.590000</td>\n",
       "      <td>19.79</td>\n",
       "      <td>45.000000</td>\n",
       "      <td>18.890000</td>\n",
       "      <td>...</td>\n",
       "      <td>17.000000</td>\n",
       "      <td>45.40</td>\n",
       "      <td>6.250000</td>\n",
       "      <td>733.8</td>\n",
       "      <td>92.0</td>\n",
       "      <td>6.000000</td>\n",
       "      <td>51.500000</td>\n",
       "      <td>5.0</td>\n",
       "      <td>45.410389</td>\n",
       "      <td>45.410389</td>\n",
       "    </tr>\n",
       "    <tr>\n",
       "      <th>4</th>\n",
       "      <td>2016-01-11 17:40:00</td>\n",
       "      <td>60</td>\n",
       "      <td>40</td>\n",
       "      <td>19.89</td>\n",
       "      <td>46.333333</td>\n",
       "      <td>19.2</td>\n",
       "      <td>44.530000</td>\n",
       "      <td>19.79</td>\n",
       "      <td>45.000000</td>\n",
       "      <td>18.890000</td>\n",
       "      <td>...</td>\n",
       "      <td>17.000000</td>\n",
       "      <td>45.40</td>\n",
       "      <td>6.133333</td>\n",
       "      <td>733.9</td>\n",
       "      <td>92.0</td>\n",
       "      <td>5.666667</td>\n",
       "      <td>47.666667</td>\n",
       "      <td>4.9</td>\n",
       "      <td>10.084097</td>\n",
       "      <td>10.084097</td>\n",
       "    </tr>\n",
       "  </tbody>\n",
       "</table>\n",
       "<p>5 rows × 29 columns</p>\n",
       "</div>"
      ],
      "text/plain": [
       "                  date  Appliances  lights     T1       RH_1    T2       RH_2  \\\n",
       "0  2016-01-11 17:00:00          60      30  19.89  47.596667  19.2  44.790000   \n",
       "1  2016-01-11 17:10:00          60      30  19.89  46.693333  19.2  44.722500   \n",
       "2  2016-01-11 17:20:00          50      30  19.89  46.300000  19.2  44.626667   \n",
       "3  2016-01-11 17:30:00          50      40  19.89  46.066667  19.2  44.590000   \n",
       "4  2016-01-11 17:40:00          60      40  19.89  46.333333  19.2  44.530000   \n",
       "\n",
       "      T3       RH_3         T4  ...         T9   RH_9     T_out  Press_mm_hg  \\\n",
       "0  19.79  44.730000  19.000000  ...  17.033333  45.53  6.600000        733.5   \n",
       "1  19.79  44.790000  19.000000  ...  17.066667  45.56  6.483333        733.6   \n",
       "2  19.79  44.933333  18.926667  ...  17.000000  45.50  6.366667        733.7   \n",
       "3  19.79  45.000000  18.890000  ...  17.000000  45.40  6.250000        733.8   \n",
       "4  19.79  45.000000  18.890000  ...  17.000000  45.40  6.133333        733.9   \n",
       "\n",
       "   RH_out  Windspeed  Visibility  Tdewpoint        rv1        rv2  \n",
       "0    92.0   7.000000   63.000000        5.3  13.275433  13.275433  \n",
       "1    92.0   6.666667   59.166667        5.2  18.606195  18.606195  \n",
       "2    92.0   6.333333   55.333333        5.1  28.642668  28.642668  \n",
       "3    92.0   6.000000   51.500000        5.0  45.410389  45.410389  \n",
       "4    92.0   5.666667   47.666667        4.9  10.084097  10.084097  \n",
       "\n",
       "[5 rows x 29 columns]"
      ]
     },
     "execution_count": 11,
     "metadata": {},
     "output_type": "execute_result"
    }
   ],
   "source": [
    "data.head()"
   ]
  },
  {
   "cell_type": "markdown",
   "id": "5f2ac14e-dd3e-4ab8-aa6a-64d87a713bf1",
   "metadata": {},
   "source": [
    "##### <font color = LightBlue></center>  _Data Information_  </fonts>"
   ]
  },
  {
   "cell_type": "code",
   "execution_count": 13,
   "id": "84e79a80-c68a-4443-8cfe-b457e8089c92",
   "metadata": {},
   "outputs": [
    {
     "name": "stdout",
     "output_type": "stream",
     "text": [
      "\n",
      "Feature names and its datatypes:\n",
      "<class 'pandas.core.frame.DataFrame'>\n",
      "RangeIndex: 19735 entries, 0 to 19734\n",
      "Data columns (total 29 columns):\n",
      " #   Column       Non-Null Count  Dtype  \n",
      "---  ------       --------------  -----  \n",
      " 0   date         19735 non-null  object \n",
      " 1   Appliances   19735 non-null  int64  \n",
      " 2   lights       19735 non-null  int64  \n",
      " 3   T1           19735 non-null  float64\n",
      " 4   RH_1         19735 non-null  float64\n",
      " 5   T2           19735 non-null  float64\n",
      " 6   RH_2         19735 non-null  float64\n",
      " 7   T3           19735 non-null  float64\n",
      " 8   RH_3         19735 non-null  float64\n",
      " 9   T4           19735 non-null  float64\n",
      " 10  RH_4         19735 non-null  float64\n",
      " 11  T5           19735 non-null  float64\n",
      " 12  RH_5         19735 non-null  float64\n",
      " 13  T6           19735 non-null  float64\n",
      " 14  RH_6         19735 non-null  float64\n",
      " 15  T7           19735 non-null  float64\n",
      " 16  RH_7         19735 non-null  float64\n",
      " 17  T8           19735 non-null  float64\n",
      " 18  RH_8         19735 non-null  float64\n",
      " 19  T9           19735 non-null  float64\n",
      " 20  RH_9         19735 non-null  float64\n",
      " 21  T_out        19735 non-null  float64\n",
      " 22  Press_mm_hg  19735 non-null  float64\n",
      " 23  RH_out       19735 non-null  float64\n",
      " 24  Windspeed    19735 non-null  float64\n",
      " 25  Visibility   19735 non-null  float64\n",
      " 26  Tdewpoint    19735 non-null  float64\n",
      " 27  rv1          19735 non-null  float64\n",
      " 28  rv2          19735 non-null  float64\n",
      "dtypes: float64(26), int64(2), object(1)\n",
      "memory usage: 4.4+ MB\n"
     ]
    }
   ],
   "source": [
    "print(\"\\nFeature names and its datatypes:\")\n",
    "data.info()"
   ]
  },
  {
   "cell_type": "markdown",
   "id": "4ecaf9d7-75e1-4991-8a33-0cec41ef8a64",
   "metadata": {},
   "source": [
    "##### <font color = LightBlue></center>  _Statistical Analysis of the data_  </fonts>"
   ]
  },
  {
   "cell_type": "code",
   "execution_count": 15,
   "id": "b411bda0-67bc-41da-a2eb-be20d163bb7d",
   "metadata": {},
   "outputs": [
    {
     "name": "stdout",
     "output_type": "stream",
     "text": [
      "Summary Statistics of the data:\n",
      "\t\n"
     ]
    },
    {
     "data": {
      "text/html": [
       "<div>\n",
       "<style scoped>\n",
       "    .dataframe tbody tr th:only-of-type {\n",
       "        vertical-align: middle;\n",
       "    }\n",
       "\n",
       "    .dataframe tbody tr th {\n",
       "        vertical-align: top;\n",
       "    }\n",
       "\n",
       "    .dataframe thead th {\n",
       "        text-align: right;\n",
       "    }\n",
       "</style>\n",
       "<table border=\"1\" class=\"dataframe\">\n",
       "  <thead>\n",
       "    <tr style=\"text-align: right;\">\n",
       "      <th></th>\n",
       "      <th>Appliances</th>\n",
       "      <th>lights</th>\n",
       "      <th>T1</th>\n",
       "      <th>RH_1</th>\n",
       "      <th>T2</th>\n",
       "      <th>RH_2</th>\n",
       "      <th>T3</th>\n",
       "      <th>RH_3</th>\n",
       "      <th>T4</th>\n",
       "      <th>RH_4</th>\n",
       "      <th>...</th>\n",
       "      <th>T9</th>\n",
       "      <th>RH_9</th>\n",
       "      <th>T_out</th>\n",
       "      <th>Press_mm_hg</th>\n",
       "      <th>RH_out</th>\n",
       "      <th>Windspeed</th>\n",
       "      <th>Visibility</th>\n",
       "      <th>Tdewpoint</th>\n",
       "      <th>rv1</th>\n",
       "      <th>rv2</th>\n",
       "    </tr>\n",
       "  </thead>\n",
       "  <tbody>\n",
       "    <tr>\n",
       "      <th>count</th>\n",
       "      <td>19735.000000</td>\n",
       "      <td>19735.000000</td>\n",
       "      <td>19735.000000</td>\n",
       "      <td>19735.000000</td>\n",
       "      <td>19735.000000</td>\n",
       "      <td>19735.000000</td>\n",
       "      <td>19735.000000</td>\n",
       "      <td>19735.000000</td>\n",
       "      <td>19735.000000</td>\n",
       "      <td>19735.000000</td>\n",
       "      <td>...</td>\n",
       "      <td>19735.000000</td>\n",
       "      <td>19735.000000</td>\n",
       "      <td>19735.000000</td>\n",
       "      <td>19735.000000</td>\n",
       "      <td>19735.000000</td>\n",
       "      <td>19735.000000</td>\n",
       "      <td>19735.000000</td>\n",
       "      <td>19735.000000</td>\n",
       "      <td>19735.000000</td>\n",
       "      <td>19735.000000</td>\n",
       "    </tr>\n",
       "    <tr>\n",
       "      <th>mean</th>\n",
       "      <td>97.694958</td>\n",
       "      <td>3.801875</td>\n",
       "      <td>21.686571</td>\n",
       "      <td>40.259739</td>\n",
       "      <td>20.341219</td>\n",
       "      <td>40.420420</td>\n",
       "      <td>22.267611</td>\n",
       "      <td>39.242500</td>\n",
       "      <td>20.855335</td>\n",
       "      <td>39.026904</td>\n",
       "      <td>...</td>\n",
       "      <td>19.485828</td>\n",
       "      <td>41.552401</td>\n",
       "      <td>7.411665</td>\n",
       "      <td>755.522602</td>\n",
       "      <td>79.750418</td>\n",
       "      <td>4.039752</td>\n",
       "      <td>38.330834</td>\n",
       "      <td>3.760707</td>\n",
       "      <td>24.988033</td>\n",
       "      <td>24.988033</td>\n",
       "    </tr>\n",
       "    <tr>\n",
       "      <th>std</th>\n",
       "      <td>102.524891</td>\n",
       "      <td>7.935988</td>\n",
       "      <td>1.606066</td>\n",
       "      <td>3.979299</td>\n",
       "      <td>2.192974</td>\n",
       "      <td>4.069813</td>\n",
       "      <td>2.006111</td>\n",
       "      <td>3.254576</td>\n",
       "      <td>2.042884</td>\n",
       "      <td>4.341321</td>\n",
       "      <td>...</td>\n",
       "      <td>2.014712</td>\n",
       "      <td>4.151497</td>\n",
       "      <td>5.317409</td>\n",
       "      <td>7.399441</td>\n",
       "      <td>14.901088</td>\n",
       "      <td>2.451221</td>\n",
       "      <td>11.794719</td>\n",
       "      <td>4.194648</td>\n",
       "      <td>14.496634</td>\n",
       "      <td>14.496634</td>\n",
       "    </tr>\n",
       "    <tr>\n",
       "      <th>min</th>\n",
       "      <td>10.000000</td>\n",
       "      <td>0.000000</td>\n",
       "      <td>16.790000</td>\n",
       "      <td>27.023333</td>\n",
       "      <td>16.100000</td>\n",
       "      <td>20.463333</td>\n",
       "      <td>17.200000</td>\n",
       "      <td>28.766667</td>\n",
       "      <td>15.100000</td>\n",
       "      <td>27.660000</td>\n",
       "      <td>...</td>\n",
       "      <td>14.890000</td>\n",
       "      <td>29.166667</td>\n",
       "      <td>-5.000000</td>\n",
       "      <td>729.300000</td>\n",
       "      <td>24.000000</td>\n",
       "      <td>0.000000</td>\n",
       "      <td>1.000000</td>\n",
       "      <td>-6.600000</td>\n",
       "      <td>0.005322</td>\n",
       "      <td>0.005322</td>\n",
       "    </tr>\n",
       "    <tr>\n",
       "      <th>25%</th>\n",
       "      <td>50.000000</td>\n",
       "      <td>0.000000</td>\n",
       "      <td>20.760000</td>\n",
       "      <td>37.333333</td>\n",
       "      <td>18.790000</td>\n",
       "      <td>37.900000</td>\n",
       "      <td>20.790000</td>\n",
       "      <td>36.900000</td>\n",
       "      <td>19.530000</td>\n",
       "      <td>35.530000</td>\n",
       "      <td>...</td>\n",
       "      <td>18.000000</td>\n",
       "      <td>38.500000</td>\n",
       "      <td>3.666667</td>\n",
       "      <td>750.933333</td>\n",
       "      <td>70.333333</td>\n",
       "      <td>2.000000</td>\n",
       "      <td>29.000000</td>\n",
       "      <td>0.900000</td>\n",
       "      <td>12.497889</td>\n",
       "      <td>12.497889</td>\n",
       "    </tr>\n",
       "    <tr>\n",
       "      <th>50%</th>\n",
       "      <td>60.000000</td>\n",
       "      <td>0.000000</td>\n",
       "      <td>21.600000</td>\n",
       "      <td>39.656667</td>\n",
       "      <td>20.000000</td>\n",
       "      <td>40.500000</td>\n",
       "      <td>22.100000</td>\n",
       "      <td>38.530000</td>\n",
       "      <td>20.666667</td>\n",
       "      <td>38.400000</td>\n",
       "      <td>...</td>\n",
       "      <td>19.390000</td>\n",
       "      <td>40.900000</td>\n",
       "      <td>6.916667</td>\n",
       "      <td>756.100000</td>\n",
       "      <td>83.666667</td>\n",
       "      <td>3.666667</td>\n",
       "      <td>40.000000</td>\n",
       "      <td>3.433333</td>\n",
       "      <td>24.897653</td>\n",
       "      <td>24.897653</td>\n",
       "    </tr>\n",
       "    <tr>\n",
       "      <th>75%</th>\n",
       "      <td>100.000000</td>\n",
       "      <td>0.000000</td>\n",
       "      <td>22.600000</td>\n",
       "      <td>43.066667</td>\n",
       "      <td>21.500000</td>\n",
       "      <td>43.260000</td>\n",
       "      <td>23.290000</td>\n",
       "      <td>41.760000</td>\n",
       "      <td>22.100000</td>\n",
       "      <td>42.156667</td>\n",
       "      <td>...</td>\n",
       "      <td>20.600000</td>\n",
       "      <td>44.338095</td>\n",
       "      <td>10.408333</td>\n",
       "      <td>760.933333</td>\n",
       "      <td>91.666667</td>\n",
       "      <td>5.500000</td>\n",
       "      <td>40.000000</td>\n",
       "      <td>6.566667</td>\n",
       "      <td>37.583769</td>\n",
       "      <td>37.583769</td>\n",
       "    </tr>\n",
       "    <tr>\n",
       "      <th>max</th>\n",
       "      <td>1080.000000</td>\n",
       "      <td>70.000000</td>\n",
       "      <td>26.260000</td>\n",
       "      <td>63.360000</td>\n",
       "      <td>29.856667</td>\n",
       "      <td>56.026667</td>\n",
       "      <td>29.236000</td>\n",
       "      <td>50.163333</td>\n",
       "      <td>26.200000</td>\n",
       "      <td>51.090000</td>\n",
       "      <td>...</td>\n",
       "      <td>24.500000</td>\n",
       "      <td>53.326667</td>\n",
       "      <td>26.100000</td>\n",
       "      <td>772.300000</td>\n",
       "      <td>100.000000</td>\n",
       "      <td>14.000000</td>\n",
       "      <td>66.000000</td>\n",
       "      <td>15.500000</td>\n",
       "      <td>49.996530</td>\n",
       "      <td>49.996530</td>\n",
       "    </tr>\n",
       "  </tbody>\n",
       "</table>\n",
       "<p>8 rows × 28 columns</p>\n",
       "</div>"
      ],
      "text/plain": [
       "         Appliances        lights            T1          RH_1            T2  \\\n",
       "count  19735.000000  19735.000000  19735.000000  19735.000000  19735.000000   \n",
       "mean      97.694958      3.801875     21.686571     40.259739     20.341219   \n",
       "std      102.524891      7.935988      1.606066      3.979299      2.192974   \n",
       "min       10.000000      0.000000     16.790000     27.023333     16.100000   \n",
       "25%       50.000000      0.000000     20.760000     37.333333     18.790000   \n",
       "50%       60.000000      0.000000     21.600000     39.656667     20.000000   \n",
       "75%      100.000000      0.000000     22.600000     43.066667     21.500000   \n",
       "max     1080.000000     70.000000     26.260000     63.360000     29.856667   \n",
       "\n",
       "               RH_2            T3          RH_3            T4          RH_4  \\\n",
       "count  19735.000000  19735.000000  19735.000000  19735.000000  19735.000000   \n",
       "mean      40.420420     22.267611     39.242500     20.855335     39.026904   \n",
       "std        4.069813      2.006111      3.254576      2.042884      4.341321   \n",
       "min       20.463333     17.200000     28.766667     15.100000     27.660000   \n",
       "25%       37.900000     20.790000     36.900000     19.530000     35.530000   \n",
       "50%       40.500000     22.100000     38.530000     20.666667     38.400000   \n",
       "75%       43.260000     23.290000     41.760000     22.100000     42.156667   \n",
       "max       56.026667     29.236000     50.163333     26.200000     51.090000   \n",
       "\n",
       "       ...            T9          RH_9         T_out   Press_mm_hg  \\\n",
       "count  ...  19735.000000  19735.000000  19735.000000  19735.000000   \n",
       "mean   ...     19.485828     41.552401      7.411665    755.522602   \n",
       "std    ...      2.014712      4.151497      5.317409      7.399441   \n",
       "min    ...     14.890000     29.166667     -5.000000    729.300000   \n",
       "25%    ...     18.000000     38.500000      3.666667    750.933333   \n",
       "50%    ...     19.390000     40.900000      6.916667    756.100000   \n",
       "75%    ...     20.600000     44.338095     10.408333    760.933333   \n",
       "max    ...     24.500000     53.326667     26.100000    772.300000   \n",
       "\n",
       "             RH_out     Windspeed    Visibility     Tdewpoint           rv1  \\\n",
       "count  19735.000000  19735.000000  19735.000000  19735.000000  19735.000000   \n",
       "mean      79.750418      4.039752     38.330834      3.760707     24.988033   \n",
       "std       14.901088      2.451221     11.794719      4.194648     14.496634   \n",
       "min       24.000000      0.000000      1.000000     -6.600000      0.005322   \n",
       "25%       70.333333      2.000000     29.000000      0.900000     12.497889   \n",
       "50%       83.666667      3.666667     40.000000      3.433333     24.897653   \n",
       "75%       91.666667      5.500000     40.000000      6.566667     37.583769   \n",
       "max      100.000000     14.000000     66.000000     15.500000     49.996530   \n",
       "\n",
       "                rv2  \n",
       "count  19735.000000  \n",
       "mean      24.988033  \n",
       "std       14.496634  \n",
       "min        0.005322  \n",
       "25%       12.497889  \n",
       "50%       24.897653  \n",
       "75%       37.583769  \n",
       "max       49.996530  \n",
       "\n",
       "[8 rows x 28 columns]"
      ]
     },
     "execution_count": 15,
     "metadata": {},
     "output_type": "execute_result"
    }
   ],
   "source": [
    "print(\"Summary Statistics of the data:\")\n",
    "print(\"\\t\")\n",
    "data.describe()"
   ]
  },
  {
   "cell_type": "markdown",
   "id": "cca6cae3-cea7-430e-80d0-36fa8dbcdc86",
   "metadata": {},
   "source": [
    "##### <font color = LightBlue></center> _Column Names of Dataset_ </fonts>"
   ]
  },
  {
   "cell_type": "code",
   "execution_count": 17,
   "id": "9fc2829b-28f3-46dc-ab33-df07053e328c",
   "metadata": {},
   "outputs": [
    {
     "name": "stdout",
     "output_type": "stream",
     "text": [
      "Columns of the dataset:\n"
     ]
    },
    {
     "data": {
      "text/plain": [
       "Index(['date', 'Appliances', 'lights', 'T1', 'RH_1', 'T2', 'RH_2', 'T3',\n",
       "       'RH_3', 'T4', 'RH_4', 'T5', 'RH_5', 'T6', 'RH_6', 'T7', 'RH_7', 'T8',\n",
       "       'RH_8', 'T9', 'RH_9', 'T_out', 'Press_mm_hg', 'RH_out', 'Windspeed',\n",
       "       'Visibility', 'Tdewpoint', 'rv1', 'rv2'],\n",
       "      dtype='object')"
      ]
     },
     "execution_count": 17,
     "metadata": {},
     "output_type": "execute_result"
    }
   ],
   "source": [
    "print(\"Columns of the dataset:\")\n",
    "data.columns"
   ]
  },
  {
   "cell_type": "markdown",
   "id": "a3519d3e-d53e-4eef-afe8-f349766802b4",
   "metadata": {},
   "source": [
    "#### <font color = Pink></center>  **Check Missing Values**   </fonts>"
   ]
  },
  {
   "cell_type": "code",
   "execution_count": 19,
   "id": "2927b7b9-cd99-43b4-80ee-cafc5340d611",
   "metadata": {},
   "outputs": [
    {
     "data": {
      "text/plain": [
       "date           0\n",
       "Appliances     0\n",
       "lights         0\n",
       "T1             0\n",
       "RH_1           0\n",
       "T2             0\n",
       "RH_2           0\n",
       "T3             0\n",
       "RH_3           0\n",
       "T4             0\n",
       "RH_4           0\n",
       "T5             0\n",
       "RH_5           0\n",
       "T6             0\n",
       "RH_6           0\n",
       "T7             0\n",
       "RH_7           0\n",
       "T8             0\n",
       "RH_8           0\n",
       "T9             0\n",
       "RH_9           0\n",
       "T_out          0\n",
       "Press_mm_hg    0\n",
       "RH_out         0\n",
       "Windspeed      0\n",
       "Visibility     0\n",
       "Tdewpoint      0\n",
       "rv1            0\n",
       "rv2            0\n",
       "dtype: int64"
      ]
     },
     "execution_count": 19,
     "metadata": {},
     "output_type": "execute_result"
    }
   ],
   "source": [
    "#Find the Missing values or null Values\n",
    "data.isnull().sum()"
   ]
  },
  {
   "cell_type": "markdown",
   "id": "284e6eed-46f1-4772-8b5d-ef7e7e49ae6a",
   "metadata": {},
   "source": [
    "#### <font color = Pink></center>  **Check Missing Values**   </fonts>"
   ]
  },
  {
   "cell_type": "code",
   "execution_count": 21,
   "id": "ee97c6f4-7e65-4de6-9ec9-75227df7bbe1",
   "metadata": {},
   "outputs": [
    {
     "name": "stdout",
     "output_type": "stream",
     "text": [
      "Duplicates in the dataset are:\n"
     ]
    },
    {
     "data": {
      "text/plain": [
       "0"
      ]
     },
     "execution_count": 21,
     "metadata": {},
     "output_type": "execute_result"
    }
   ],
   "source": [
    "#Find Duplicate Values in dataset\n",
    "print(\"Duplicates in the dataset are:\")\n",
    "data.duplicated().sum()"
   ]
  },
  {
   "cell_type": "markdown",
   "id": "3cf19da4-418f-4fda-8992-d20f411c8628",
   "metadata": {},
   "source": [
    "### <font color = Lightgreen></center>  **UNIVARIATE ANALYSIS**   </fonts>"
   ]
  },
  {
   "cell_type": "markdown",
   "id": "9ffabf22-909c-485e-bcce-67a94826c124",
   "metadata": {},
   "source": [
    "#### <font color = Pink></center>  **_Histogram to Visualize Feature Distribution_**   </fonts>"
   ]
  },
  {
   "cell_type": "code",
   "execution_count": 23,
   "id": "15616a72-551d-463b-b8c4-0fccb6d5b867",
   "metadata": {},
   "outputs": [
    {
     "data": {
      "image/png": "[encoded data removed]",
      "text/plain": [
       "<Figure size 2000x1500 with 30 Axes>"
      ]
     },
     "metadata": {},
     "output_type": "display_data"
    }
   ],
   "source": [
    "data.hist(figsize=(20,15) ,bins=30)\n",
    "plt.show()"
   ]
  },
  {
   "cell_type": "markdown",
   "id": "b0470098-7cd0-4b61-aa86-c2f51783bf49",
   "metadata": {},
   "source": [
    "#### <font color = Pink></center>  _Boxplot to find Outliers_    </fonts>"
   ]
  },
  {
   "cell_type": "code",
   "execution_count": 25,
   "id": "14619e59-7ff7-446a-a901-9811444d2ed8",
   "metadata": {},
   "outputs": [
    {
     "data": {
      "text/plain": [
       "<function matplotlib.pyplot.show(close=None, block=None)>"
      ]
     },
     "execution_count": 25,
     "metadata": {},
     "output_type": "execute_result"
    },
    {
     "data": {
      "image/png": "[encoded data removed]",
      "text/plain": [
       "<Figure size 1000x600 with 1 Axes>"
      ]
     },
     "metadata": {},
     "output_type": "display_data"
    }
   ],
   "source": [
    "#Boxplot detecting outliers in energy consumpion\n",
    "plt.figure(figsize=(10,6))\n",
    "sns.boxplot(data = data)\n",
    "plt.xticks(rotation=90)\n",
    "plt.show"
   ]
  },
  {
   "cell_type": "markdown",
   "id": "d8ab64c2-617a-408d-80d3-6dc721f6cd6a",
   "metadata": {},
   "source": [
    "#### <font color = Pink></center>  _Time Series LinePlot_  </fonts>"
   ]
  },
  {
   "cell_type": "code",
   "execution_count": null,
   "id": "6c16a952-8de7-4a1d-a9c2-c398f32949fb",
   "metadata": {},
   "outputs": [],
   "source": [
    "plt.figure(figsize=(12,5))\n",
    "plt.plot(data['date'],data['Appliances'],color='blue')\n",
    "plt.title(\"Energy Consumption Over Time\")\n",
    "plt.xlabel(\"Time\")\n",
    "plt.ylabel(\"Energy\")\n",
    "plt.show()"
   ]
  },
  {
   "cell_type": "markdown",
   "id": "51fca3a0-746c-4752-95e6-ef2706c5bb10",
   "metadata": {},
   "source": [
    "### <font color = Lightgreen></center>  **BIVARIATE ANALYSIS**   </fonts>"
   ]
  },
  {
   "cell_type": "markdown",
   "id": "560767bc-43b8-4519-b408-abd01ec10ffd",
   "metadata": {},
   "source": [
    "#### <font color = Pink></center>  _Correlation heatmap_    </fonts>"
   ]
  },
  {
   "cell_type": "code",
   "execution_count": null,
   "id": "9bb545be-6d32-419c-b086-8789f0384796",
   "metadata": {},
   "outputs": [],
   "source": [
    "#Correlation Heatmap - Feature relationships\n",
    "numerical_data = data.select_dtypes(include=['int64','float64'])\n",
    "plt.figure(figsize=(20,10))\n",
    "sns.heatmap(numerical_data.corr(),annot=True ,cmap ='coolwarm',fmt =\".2f\")\n",
    "plt.title(\"Correlation Heatmap\")\n",
    "plt.show()"
   ]
  },
  {
   "cell_type": "markdown",
   "id": "259383dd-27ae-4ba6-88b5-7a0a3b91b7d0",
   "metadata": {},
   "source": [
    "#### <font color = Pink></center> _Scatterplot of Temparature Vs Energy Consumption_    </fonts>"
   ]
  },
  {
   "cell_type": "code",
   "execution_count": null,
   "id": "254f0fe0-b973-4f10-bc31-52ca3d701d93",
   "metadata": {},
   "outputs": [],
   "source": [
    "plt.figure(figsize=(8,6))\n",
    "sns.scatterplot(x=data['T1'],y=data['Appliances'],alpha =0.9,color='green')\n",
    "plt.title(\"Temparature Vs Energy Consumption\")\n",
    "plt.show()"
   ]
  },
  {
   "cell_type": "markdown",
   "id": "168a9f06-a0c5-45f0-a241-c15a0ff3d19b",
   "metadata": {},
   "source": [
    "#### <font color = Lightgreen></center> MULTIVARIATE ANALYSIS   </fonts>"
   ]
  },
  {
   "cell_type": "markdown",
   "id": "132e7471-991a-4a0e-9794-44f17d223958",
   "metadata": {},
   "source": [
    "#### <font color = Pink></center> _Pairplot - Relationship between multiple features_   </fonts>"
   ]
  },
  {
   "cell_type": "code",
   "execution_count": null,
   "id": "04fb623d-bef2-4fc8-94e9-d8ad257a624a",
   "metadata": {},
   "outputs": [],
   "source": [
    "sns.pairplot(data[['T1','RH_1','Windspeed','Appliances']])\n",
    "plt.show()"
   ]
  },
  {
   "cell_type": "markdown",
   "id": "0e8e38a8-4f91-4231-a187-7d27a784d97c",
   "metadata": {},
   "source": [
    "#### <font color = Pink></center> _Average Energy consumption by hour of the day_   </fonts>"
   ]
  },
  {
   "cell_type": "code",
   "execution_count": null,
   "id": "f4eb4649-ab95-40c1-99da-1950ad648001",
   "metadata": {},
   "outputs": [],
   "source": [
    "#Extract hour faeture from date column\n",
    "data['hour'] = pd.to_datetime(data['date']).dt.hour\n",
    "\n",
    "\n",
    "Hourly_consumption = data.groupby('hour')['Appliances'].mean()\n",
    "\n",
    "#plot barplot to visualise Average energy consumption by hour of the day\n",
    "plt.figure(figsize=(8,5))\n",
    "sns.barplot(x=Hourly_consumption.index ,y=Hourly_consumption.values)\n",
    "plt.show()"
   ]
  },
  {
   "cell_type": "markdown",
   "id": "de1f947c-9920-4947-9ead-c0b697aff02a",
   "metadata": {},
   "source": [
    "#### <font color = Pink></center>   _Skewness and Kurtosis_  </fonts>"
   ]
  },
  {
   "cell_type": "code",
   "execution_count": null,
   "id": "5f47cd1c-c220-4922-b73c-992cee99a220",
   "metadata": {},
   "outputs": [],
   "source": [
    "numeric_columns = data.select_dtypes(include=['int64','float64']).columns\n",
    "\n",
    "skewness = data[numeric_columns].skew()\n",
    "Kurtosis = data[numeric_columns].kurt()\n",
    "print(f\"skewness:{skewness}\")\n",
    "print(f\"\\nKurtosis:{Kurtosis}\")"
   ]
  },
  {
   "cell_type": "code",
   "execution_count": 33,
   "id": "0f71e950-7c38-40ad-925b-838454dd0572",
   "metadata": {},
   "outputs": [],
   "source": [
    "skewed_columns = skewness[abs(skewness) > 1].index\n",
    "kurtotic_columns = Kurtosis[abs(Kurtosis) > 3].index"
   ]
  },
  {
   "cell_type": "markdown",
   "id": "527e78db-9017-43cb-8477-45c83ccd4d6e",
   "metadata": {},
   "source": [
    "#### <font color = Pink></center>  _Detection of Ouliers_    </fonts>\n"
   ]
  },
  {
   "cell_type": "code",
   "execution_count": 35,
   "id": "ff674da0-c141-4e13-8c5f-5a064aebbc2d",
   "metadata": {},
   "outputs": [],
   "source": [
    "z_scores = {}\n",
    "for col in skewed_columns:\n",
    "    z_scores[col] =np.abs(stats.zscore(data[col]))\n",
    "Threshold = 3\n",
    "outliers ={}\n",
    "for col ,z_score in z_scores.items():\n",
    "    outliers[col] = data[z_score > Threshold]\n",
    "cleaned_data =data.drop(outliers[col].index)"
   ]
  },
  {
   "cell_type": "code",
   "execution_count": 37,
   "id": "96b4b72b-0400-4298-9984-4b0fc9815b3b",
   "metadata": {},
   "outputs": [
    {
     "name": "stdout",
     "output_type": "stream",
     "text": [
      "Shape of the dataset before removing Ouliers is (19735, 31)\n",
      "Shape of the dataset after removing outliers is (19168, 31)\n"
     ]
    }
   ],
   "source": [
    "print(\"Shape of the dataset before removing Ouliers is\" , data.shape)\n",
    "print(\"Shape of the dataset after removing outliers is\" , cleaned_data.shape)"
   ]
  },
  {
   "cell_type": "markdown",
   "id": "ef07d564-ebd2-450f-b778-ec2407b930e6",
   "metadata": {},
   "source": [
    "#### <font color = Pink></center>  _Feature Engineering_    </fonts>"
   ]
  },
  {
   "cell_type": "code",
   "execution_count": null,
   "id": "5465636e-9729-4d32-838f-c74d2e7737bb",
   "metadata": {},
   "outputs": [],
   "source": [
    "# Convert 'date' to datetime\n",
    "data['date'] = pd.to_datetime(data['date'])\n",
    "\n",
    "# Extract new time-based features\n",
    "data['hour'] = data['date'].dt.hour\n",
    "data['day'] = data['date'].dt.day\n",
    "data['month'] = data['date'].dt.month"
   ]
  },
  {
   "cell_type": "code",
   "execution_count": null,
   "id": "aff50468-ad48-472b-b9a1-aa2b2d752ae1",
   "metadata": {},
   "outputs": [],
   "source": [
    "# Drop the original 'date' column (if it's not needed)\n",
    "data.drop(columns=['date'], inplace=True)"
   ]
  },
  {
   "cell_type": "markdown",
   "id": "cd086305-ea54-4f51-9a17-fedf68412070",
   "metadata": {},
   "source": [
    "#### <font color = Pink></center>  _Feature Selection_   </fonts>"
   ]
  },
  {
   "cell_type": "code",
   "execution_count": null,
   "id": "ca05f569-2f79-4d2b-aeac-e05f7c66d296",
   "metadata": {},
   "outputs": [],
   "source": [
    "numerical_cols = cleaned_data.select_dtypes(include=['number']).columns\n",
    "\n",
    "# Standardize the data\n",
    "scaler = StandardScaler()\n",
    "scaled_data = scaler.fit_transform(cleaned_data[numerical_cols])\n",
    "scaled_data"
   ]
  },
  {
   "cell_type": "code",
   "execution_count": 48,
   "id": "eb79e638-ffd6-48bd-928f-8fe06b013cec",
   "metadata": {},
   "outputs": [
    {
     "data": {
      "image/png": "[encoded data removed]",
      "text/plain": [
       "<Figure size 800x500 with 1 Axes>"
      ]
     },
     "metadata": {},
     "output_type": "display_data"
    }
   ],
   "source": [
    "#Find the optimum K using the Elbow Method\n",
    "wcss = []  # Within-Cluster-Sum-of-Squares\n",
    "k_values = range(1, 11)  # Testing K from 1 to 10\n",
    "\n",
    "for k in k_values:\n",
    "    kmeans = KMeans(n_clusters=k, random_state=42, n_init=10)\n",
    "    kmeans.fit(scaled_data)\n",
    "    wcss.append(kmeans.inertia_)  # Store WCSS for each K\n",
    "\n",
    "# Determine the \"elbow\" point (Replace with your optimal K)\n",
    "optimal_k = 2  # Manually select or use KneeLocator for automation\n",
    "\n",
    "# Plot the Elbow Method\n",
    "plt.figure(figsize=(8, 5))\n",
    "plt.plot(k_values, wcss, marker='o', linestyle='--', color='b', label=\"WCSS\")\n",
    "\n",
    "# Highlight the optimum K value\n",
    "plt.scatter(optimal_k, wcss[optimal_k - 1], color='green', s=150, marker='o', label=f\"Optimum K={optimal_k}\")\n",
    "plt.annotate(f\"K={optimal_k}\", (optimal_k, wcss[optimal_k - 1]),\n",
    "             textcoords=\"offset points\", xytext=(-15, -10), ha='center', fontsize=12, color='green')\n",
    "\n",
    "# Labels and Title\n",
    "plt.xlabel(\"Number of Clusters (K)\")\n",
    "plt.ylabel(\"Within-Cluster-Sum-of-Squares (WCSS)\")\n",
    "plt.title(\"Elbow Method to Determine Optimum K\")\n",
    "plt.legend()\n",
    "plt.grid(True)\n",
    "\n",
    "# Show the plot\n",
    "plt.show()\n"
   ]
  },
  {
   "cell_type": "code",
   "execution_count": 50,
   "id": "6dff2872-8b0d-4b3d-ad2b-63bcf46e0d10",
   "metadata": {},
   "outputs": [
    {
     "name": "stdout",
     "output_type": "stream",
     "text": [
      "Feature Importance based on K-Means Clustering:\n",
      "        Feature  Importance\n",
      "18           T9    0.810516\n",
      "14           T7    0.801885\n",
      "8            T4    0.781614\n",
      "10           T5    0.781446\n",
      "6            T3    0.780966\n",
      "13         RH_6    0.766844\n",
      "20        T_out    0.763281\n",
      "12           T6    0.757490\n",
      "2            T1    0.744452\n",
      "4            T2    0.743169\n",
      "16           T8    0.687841\n",
      "25    Tdewpoint    0.565219\n",
      "22       RH_out    0.497575\n",
      "3          RH_1    0.159889\n",
      "28         hour    0.145410\n",
      "1        lights    0.121954\n",
      "11         RH_5    0.114490\n",
      "7          RH_3    0.101414\n",
      "24   Visibility    0.093152\n",
      "21  Press_mm_hg    0.092709\n",
      "17         RH_8    0.092155\n",
      "0    Appliances    0.076833\n",
      "23    Windspeed    0.072818\n",
      "5          RH_2    0.060189\n",
      "15         RH_7    0.057686\n",
      "9          RH_4    0.034065\n",
      "26          rv1    0.009625\n",
      "27          rv2    0.009625\n",
      "19         RH_9    0.000224\n",
      "Selected_features: ['T9' 'T7' 'T4' 'T5' 'T3']\n"
     ]
    }
   ],
   "source": [
    "# Apply K-Means clustering (choosing k=2 based on the previous visualization)\n",
    "kmeans = KMeans(n_clusters=2, random_state=42, n_init=10)\n",
    "kmeans.fit(scaled_data)\n",
    "\n",
    "# Compute feature importance using cluster centers\n",
    "feature_importance = np.std(kmeans.cluster_centers_, axis=0)\n",
    "\n",
    "# Create a DataFrame to display feature importance\n",
    "feature_importance_df = pd.DataFrame({'Feature': numerical_cols, 'Importance': feature_importance})\n",
    "feature_importance_df = feature_importance_df.sort_values(by='Importance', ascending=False)\n",
    "\n",
    "# Display most important features\n",
    "print(\"Feature Importance based on K-Means Clustering:\")\n",
    "print(feature_importance_df)\n",
    "\n",
    "# Select top N features (e.g., top 5)\n",
    "top_features = feature_importance_df['Feature'].head(5).values\n",
    "selected_data = cleaned_data[top_features]\n",
    "\n",
    "print(\"Selected_features:\" , top_features)"
   ]
  },
  {
   "cell_type": "markdown",
   "id": "b5e0ff15-4707-4f20-93ce-193c10769b50",
   "metadata": {},
   "source": [
    "#### <font color = Pink></center> _Split Data Into Training and Testing_   </fonts>"
   ]
  },
  {
   "cell_type": "code",
   "execution_count": null,
   "id": "b0080124-df48-4e35-9e5c-2970c53746b9",
   "metadata": {},
   "outputs": [],
   "source": [
    "#Define the Features (X) and target variable(Y)\n",
    "X= data.drop('Appliances',axis=1)\n",
    "Y= data['Appliances']\n",
    "\n",
    "#Split data into training and testing sets\n",
    "X_train,X_test,Y_train,Y_test = train_test_split(X,Y,test_size=0.2,random_state=42)\n",
    "\n",
    "print(\"Training set size:\" ,len(X_train))\n",
    "print(\"Testing set size:\" , len(X_test))"
   ]
  },
  {
   "cell_type": "markdown",
   "id": "f7fc159e-aea9-4f3f-96d3-65bc02562f8f",
   "metadata": {},
   "source": [
    "#### <font color = Pink></center> _Feature Scaling_  </fonts>"
   ]
  },
  {
   "cell_type": "code",
   "execution_count": null,
   "id": "1c8d0203-940e-4abe-80c2-cc19eb6ffb5e",
   "metadata": {},
   "outputs": [],
   "source": [
    "scaler =StandardScaler()\n",
    "X_train_scaled = scaler.fit_transform(X_train)\n",
    "X_test_scaled = scaler.fit_transform(X_test)"
   ]
  },
  {
   "cell_type": "markdown",
   "id": "444bc9fc-14a8-49cc-8814-1d47b3c99cff",
   "metadata": {},
   "source": [
    "#### <font color = Lightgreen></center>  **MODEL IMPLEMENTATION**   </fonts>"
   ]
  },
  {
   "cell_type": "code",
   "execution_count": null,
   "id": "2ac17a09-8efe-46ce-80da-40e36656981a",
   "metadata": {},
   "outputs": [],
   "source": [
    "# Initialize the regression models\n",
    "models = {\n",
    "    \"Linear Regression\": LinearRegression(),\n",
    "    \"Decision Tree Regressor\": DecisionTreeRegressor(random_state=42),\n",
    "    \"Random Forest Regressor\": RandomForestRegressor(random_state=42, n_jobs=-1),\n",
    "    \"Gradient Boosting Regressor\": GradientBoostingRegressor(random_state=42),\n",
    "    \"Support Vector Regressor\": SVR(kernel='rbf')\n",
    "}\n",
    "\n",
    "# Dictionary to store results\n",
    "results = {}\n",
    "\n",
    "# Train and evaluate each model\n",
    "for name, model in models.items():\n",
    "    print(f\"Training and evaluating {name}...\")\n",
    "    # Train the model\n",
    "    model.fit(X_train, Y_train)\n",
    "    # Predict on test data\n",
    "    y_pred = model.predict(X_test)\n",
    "    \n",
    "    # Calculate metrics\n",
    "    mse = mean_squared_error(Y_test, y_pred)\n",
    "    mae = mean_absolute_error(Y_test, y_pred)\n",
    "    r2 = r2_score(Y_test, y_pred)\n",
    "    \n",
    "    # Save results\n",
    "    results[name] = {\"R-squared\": r2, \"MSE\": mse, \"MAE\": mae}\n",
    "    print(f\"{name} - R-squared: {r2:.3f}, MSE: {mse:.3f}, MAE: {mae:.3f}\")\n",
    "    print(\"-\" * 50)\n",
    "\n",
    "# Display results in a DataFrame\n",
    "results_df = pd.DataFrame(results).T  # Transpose for better readability\n",
    "print(\"\\nComparison of Model Performance:\")\n",
    "print(results_df)\n",
    "\n",
    "# Sort the results by R-squared for better visualization\n",
    "sorted_results = results_df.sort_values(by=\"R-squared\", ascending=False)\n",
    "print(\"\\nSorted Results by R-squared:\")\n",
    "print(sorted_results)"
   ]
  },
  {
   "cell_type": "markdown",
   "id": "940598f4-07a4-47bd-a894-cd1a9af5f5d5",
   "metadata": {},
   "source": [
    "Based on these metrics ,we can compare the performance of each model and select the one\n",
    "with highest R2 Value,Lowest MSE Value and MAE Value.\n",
    "In the sorted Result , the topmost model is Random forest Regressor ."
   ]
  },
  {
   "cell_type": "markdown",
   "id": "66d4a67c-9820-46d8-ab8c-564fd78429d7",
   "metadata": {},
   "source": [
    "The best model is the **Random Forest Regressor** ,which has the _highest R2 value_ (0.542),\n",
    "indicating the best fit , and the _lowest MSE_ (4577.9) and _MAE_ (32.25) values ,indicating\n",
    "the smallest average squared and absolute errors respectively."
   ]
  },
  {
   "cell_type": "code",
   "execution_count": null,
   "id": "c0e43709-d662-4477-bc85-b92abd0f3d3c",
   "metadata": {},
   "outputs": [],
   "source": []
  }
 ],
 "metadata": {
  "kernelspec": {
   "display_name": "Python 3 (ipykernel)",
   "language": "python",
   "name": "python3"
  },
  "language_info": {
   "codemirror_mode": {
    "name": "ipython",
    "version": 3
   },
   "file_extension": ".py",
   "mimetype": "text/x-python",
   "name": "python",
   "nbconvert_exporter": "python",
   "pygments_lexer": "ipython3",
   "version": "3.12.4"
  }
 },
 "nbformat": 4,
 "nbformat_minor": 5
}
